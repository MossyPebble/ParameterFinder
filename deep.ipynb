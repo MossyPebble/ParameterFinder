{
 "cells": [
  {
   "cell_type": "code",
   "execution_count": 32,
   "metadata": {},
   "outputs": [],
   "source": [
    "import numpy as np\n",
    "from decimal import Decimal\n",
    "import pandas as pd\n",
    "from sklearn.model_selection import train_test_split\n",
    "from sklearn import preprocessing\n",
    "\n",
    "def cartesian(arrays):\n",
    "\n",
    "    \"\"\"[[numpy 배열], [numpy 배열]...] 의 형태를 받아 배열 끼리의 데카르트 곱을 numpy 배열로 반환\"\"\"\n",
    "\n",
    "    la = len(arrays)\n",
    "    dtype = np.result_type(*arrays)\n",
    "    arr = np.empty([la] + [len(a) for a in arrays], dtype=dtype)\n",
    "    for i, a in enumerate(np.ix_(*arrays)):\n",
    "        arr[i, ...] = a\n",
    "    return arr.reshape(la, -1).T\n",
    "\n",
    "def equation(Tox, muns, Vt, m, Vds, Vgs, W=Decimal('1e-6'), L=Decimal('1e-6'), Eox=Decimal('3.9')*Decimal('8.85e-12')):\n",
    "    Coxe = Eox/Tox\n",
    "    if Vds < (Vgs - Vt)/m:\n",
    "        return W/L * Coxe * muns * (Vgs-Vt-m/2*Vds)*Vds\n",
    "    elif Vds >= (Vgs - Vt)/m:\n",
    "        return W/(2*m*L) * Coxe * muns * (Vgs - Vt)*(Vgs - Vt)\n",
    "    elif Vgs < Vt:\n",
    "        return 0\n",
    "    else:\n",
    "        raise Exception('방정식 예외 발생')\n",
    "    \n",
    "def equationans(Tox, muns, Vt, m):\n",
    "    temp = cartesian((np.arange(0, 5), np.arange(0, 5)))\n",
    "    return [float(equation(Tox, muns, Vt, m, *x)) for x in temp]\n",
    "\n",
    "data = pd.read_csv('data.csv')\n",
    "ans = pd.read_csv('ans.csv')\n",
    "\n",
    "midTox = Decimal('1e-8')\n",
    "midmuns = Decimal('0.02')\n",
    "midm = Decimal('1.2')\n",
    "midVt = Decimal('0.7')\n",
    "\n",
    "scaler = preprocessing.MinMaxScaler()\n",
    "data = scaler.fit_transform(data)\n",
    "\n",
    "x = ans\n",
    "y = data\n",
    "\n",
    "x_train, x_test, y_train, y_test = train_test_split(x, y, train_size=0.8, test_size=0.2)"
   ]
  },
  {
   "cell_type": "code",
   "execution_count": null,
   "metadata": {},
   "outputs": [],
   "source": [
    "from keras.layers import Input, Dense\n",
    "from keras.models import Model\n",
    "import keras\n",
    "\n",
    "inputs = Input(shape=(25,))\n",
    "\n",
    "x = Dense(64, activation='relu')(inputs)\n",
    "x = Dense(64, activation='relu')(x)\n",
    "x = Dense(64, activation='relu')(x)\n",
    "x = Dense(64, activation='relu')(x)\n",
    "x = Dense(64, activation='relu')(x)\n",
    "predictions = Dense(4)(x)"
   ]
  },
  {
   "cell_type": "code",
   "execution_count": null,
   "metadata": {},
   "outputs": [],
   "source": [
    "import keras.callbacks\n",
    "\n",
    "callbacks_list = [\n",
    "    keras.callbacks.EarlyStopping(\n",
    "        monitor='val_accuracy',\n",
    "        patience=3\n",
    "    ),\n",
    "    keras.callbacks.ModelCheckpoint(\n",
    "        filepath='checkpoint.keras',\n",
    "        monitor='val_loss',\n",
    "        save_best_only=True\n",
    "    )\n",
    "]\n",
    "\n",
    "model = Model(inputs=inputs, outputs=predictions)\n",
    "model.compile(optimizer=keras.optimizers.Adam(),\n",
    "              loss='mse',\n",
    "              metrics=['accuracy'])\n",
    "history = model.fit(x_test, y_test, epochs=20, callbacks=callbacks_list, validation_data=(x_test, y_test))"
   ]
  },
  {
   "cell_type": "code",
   "execution_count": null,
   "metadata": {},
   "outputs": [],
   "source": [
    "import keras.models\n",
    "\n",
    "model = keras.models.load_model('checkpoint.keras')"
   ]
  },
  {
   "cell_type": "code",
   "execution_count": null,
   "metadata": {},
   "outputs": [],
   "source": [
    "import matplotlib.pyplot as plt\n",
    "\n",
    "def vis(history,name) :\n",
    "    plt.title(f\"{name.upper()}\")\n",
    "    plt.xlabel('epochs')\n",
    "    plt.ylabel(f\"{name.lower()}\")\n",
    "    value = history.history.get(name)\n",
    "    val_value = history.history.get(f\"val_{name}\",None)\n",
    "    epochs = range(1, len(value)+1)\n",
    "    plt.plot(epochs, value, 'b-', label=f'training {name}')\n",
    "    if val_value is not None :\n",
    "        plt.plot(epochs, val_value, 'r:', label=f'validation {name}')\n",
    "    plt.legend(loc='upper center', bbox_to_anchor=(0.05, 1.2) , fontsize=10 , ncol=1)\n",
    "    \n",
    "def plot_history(history) :\n",
    "    key_value = list(set([i.split(\"val_\")[-1] for i in list(history.history.keys())]))\n",
    "    plt.figure(figsize=(12, 4))\n",
    "    for idx , key in enumerate(key_value) :\n",
    "        plt.subplot(1, len(key_value), idx+1)\n",
    "        vis(history, key)\n",
    "    plt.tight_layout()\n",
    "    plt.show()\n",
    "\n",
    "plot_history(history)"
   ]
  },
  {
   "cell_type": "code",
   "execution_count": null,
   "metadata": {},
   "outputs": [],
   "source": [
    "import joblib\n",
    "\n",
    "joblib.dump(model, 'deepmodel.pkl')"
   ]
  },
  {
   "cell_type": "code",
   "execution_count": null,
   "metadata": {},
   "outputs": [],
   "source": [
    "test = [midTox * Decimal('0.7'), midmuns * Decimal('1.2'), midm * Decimal('1.06'), midVt * Decimal('0.96')]\n",
    "\n",
    "pred = model.predict([equationans(*test)])\n",
    "pred = scaler.inverse_transform(pred)\n",
    "print(test, pred)"
   ]
  }
 ],
 "metadata": {
  "kernelspec": {
   "display_name": "Python 3",
   "language": "python",
   "name": "python3"
  },
  "language_info": {
   "codemirror_mode": {
    "name": "ipython",
    "version": 3
   },
   "file_extension": ".py",
   "mimetype": "text/x-python",
   "name": "python",
   "nbconvert_exporter": "python",
   "pygments_lexer": "ipython3",
   "version": "3.10.6"
  },
  "orig_nbformat": 4,
  "vscode": {
   "interpreter": {
    "hash": "0b781e3fe8011fceb4937a27383778c74b4ea699fbc02310360b319daf9e2774"
   }
  }
 },
 "nbformat": 4,
 "nbformat_minor": 2
}
